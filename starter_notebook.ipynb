{
  "cells": [
    {
      "cell_type": "markdown",
      "metadata": {
        "id": "view-in-github",
        "colab_type": "text"
      },
      "source": [
        "<a href=\"https://colab.research.google.com/github/nayeemhasan100/Nayeem_Hasan_23512766/blob/main/starter_notebook.ipynb\" target=\"_parent\"><img src=\"https://colab.research.google.com/assets/colab-badge.svg\" alt=\"Open In Colab\"/></a>"
      ]
    },
    {
      "cell_type": "markdown",
      "id": "72e78a05",
      "metadata": {
        "id": "72e78a05"
      },
      "source": [
        "# 🌦️ WeatherWise – Starter Notebook\n",
        "\n",
        "Welcome to your **WeatherWise** project notebook! This scaffold is designed to help you build your weather advisor app using Python, visualisations, and AI-enhanced development.\n",
        "\n",
        "---\n",
        "\n",
        "📄 **Full Assignment Specification**  \n",
        "See [`ASSIGNMENT.md`](ASSIGNMENT.md) or check the LMS for full details.\n",
        "\n",
        "📝 **Quick Refresher**  \n",
        "A one-page summary is available in [`resources/assignment-summary.md`](resources/assignment-summary.md).\n",
        "\n",
        "---\n",
        "\n",
        "🧠 **This Notebook Structure is Optional**  \n",
        "You’re encouraged to reorganise, rename sections, or remove scaffold cells if you prefer — as long as your final version meets the requirements.\n",
        "\n",
        "✅ You may delete this note before submission.\n",
        "\n"
      ]
    },
    {
      "cell_type": "markdown",
      "id": "fa8c7f6c",
      "metadata": {
        "id": "fa8c7f6c"
      },
      "source": [
        "## 🧰 Setup and Imports\n",
        "\n",
        "This section imports commonly used packages and installs any additional tools used in the project.\n",
        "\n",
        "- You may not need all of these unless you're using specific features (e.g. visualisations, advanced prompting).\n",
        "- The notebook assumes the following packages are **pre-installed** in the provided environment or installable via pip:\n",
        "  - `requests`, `matplotlib`, `pyinputplus`\n",
        "  - `fetch-my-weather` (for accessing weather data easily)\n",
        "  - `hands-on-ai` (for AI logging, comparisons, or prompting tools)\n",
        "\n",
        "If you're running this notebook in **Google Colab**, uncomment the following lines to install the required packages.\n"
      ]
    },
    {
      "cell_type": "code",
      "execution_count": 1,
      "id": "70c3f3f1",
      "metadata": {
        "id": "70c3f3f1",
        "colab": {
          "base_uri": "https://localhost:8080/"
        },
        "outputId": "5784aa22-89f1-42ee-b229-94b2a9523ad5"
      },
      "outputs": [
        {
          "output_type": "stream",
          "name": "stdout",
          "text": [
            "Collecting fetch-my-weather\n",
            "  Downloading fetch_my_weather-0.4.0-py3-none-any.whl.metadata (12 kB)\n",
            "Requirement already satisfied: requests>=2.25.0 in /usr/local/lib/python3.12/dist-packages (from fetch-my-weather) (2.32.4)\n",
            "Requirement already satisfied: pydantic>=1.8.0 in /usr/local/lib/python3.12/dist-packages (from fetch-my-weather) (2.11.10)\n",
            "Requirement already satisfied: annotated-types>=0.6.0 in /usr/local/lib/python3.12/dist-packages (from pydantic>=1.8.0->fetch-my-weather) (0.7.0)\n",
            "Requirement already satisfied: pydantic-core==2.33.2 in /usr/local/lib/python3.12/dist-packages (from pydantic>=1.8.0->fetch-my-weather) (2.33.2)\n",
            "Requirement already satisfied: typing-extensions>=4.12.2 in /usr/local/lib/python3.12/dist-packages (from pydantic>=1.8.0->fetch-my-weather) (4.15.0)\n",
            "Requirement already satisfied: typing-inspection>=0.4.0 in /usr/local/lib/python3.12/dist-packages (from pydantic>=1.8.0->fetch-my-weather) (0.4.2)\n",
            "Requirement already satisfied: charset_normalizer<4,>=2 in /usr/local/lib/python3.12/dist-packages (from requests>=2.25.0->fetch-my-weather) (3.4.3)\n",
            "Requirement already satisfied: idna<4,>=2.5 in /usr/local/lib/python3.12/dist-packages (from requests>=2.25.0->fetch-my-weather) (3.10)\n",
            "Requirement already satisfied: urllib3<3,>=1.21.1 in /usr/local/lib/python3.12/dist-packages (from requests>=2.25.0->fetch-my-weather) (2.5.0)\n",
            "Requirement already satisfied: certifi>=2017.4.17 in /usr/local/lib/python3.12/dist-packages (from requests>=2.25.0->fetch-my-weather) (2025.10.5)\n",
            "Downloading fetch_my_weather-0.4.0-py3-none-any.whl (17 kB)\n",
            "Installing collected packages: fetch-my-weather\n",
            "Successfully installed fetch-my-weather-0.4.0\n",
            "Collecting hands-on-ai\n",
            "  Downloading hands_on_ai-0.2.1-py3-none-any.whl.metadata (9.2 kB)\n",
            "Requirement already satisfied: requests in /usr/local/lib/python3.12/dist-packages (from hands-on-ai) (2.32.4)\n",
            "Requirement already satisfied: typer in /usr/local/lib/python3.12/dist-packages (from hands-on-ai) (0.19.2)\n",
            "Collecting python-fasthtml (from hands-on-ai)\n",
            "  Downloading python_fasthtml-0.12.29-py3-none-any.whl.metadata (9.3 kB)\n",
            "Collecting python-docx (from hands-on-ai)\n",
            "  Downloading python_docx-1.2.0-py3-none-any.whl.metadata (2.0 kB)\n",
            "Collecting pymupdf (from hands-on-ai)\n",
            "  Downloading pymupdf-1.26.5-cp39-abi3-manylinux_2_28_x86_64.whl.metadata (3.4 kB)\n",
            "Requirement already satisfied: scikit-learn in /usr/local/lib/python3.12/dist-packages (from hands-on-ai) (1.6.1)\n",
            "Requirement already satisfied: numpy in /usr/local/lib/python3.12/dist-packages (from hands-on-ai) (2.0.2)\n",
            "Collecting instructor>=1.11.0 (from hands-on-ai)\n",
            "  Downloading instructor-1.11.3-py3-none-any.whl.metadata (11 kB)\n",
            "Requirement already satisfied: pydantic>=2.0 in /usr/local/lib/python3.12/dist-packages (from hands-on-ai) (2.11.10)\n",
            "Requirement already satisfied: aiohttp<4.0.0,>=3.9.1 in /usr/local/lib/python3.12/dist-packages (from instructor>=1.11.0->hands-on-ai) (3.13.0)\n",
            "Collecting diskcache>=5.6.3 (from instructor>=1.11.0->hands-on-ai)\n",
            "  Downloading diskcache-5.6.3-py3-none-any.whl.metadata (20 kB)\n",
            "Requirement already satisfied: docstring-parser<1.0,>=0.16 in /usr/local/lib/python3.12/dist-packages (from instructor>=1.11.0->hands-on-ai) (0.17.0)\n",
            "Requirement already satisfied: jinja2<4.0.0,>=3.1.4 in /usr/local/lib/python3.12/dist-packages (from instructor>=1.11.0->hands-on-ai) (3.1.6)\n",
            "Collecting jiter<0.11,>=0.6.1 (from instructor>=1.11.0->hands-on-ai)\n",
            "  Downloading jiter-0.10.0-cp312-cp312-manylinux_2_17_x86_64.manylinux2014_x86_64.whl.metadata (5.2 kB)\n",
            "Requirement already satisfied: openai<2.0.0,>=1.70.0 in /usr/local/lib/python3.12/dist-packages (from instructor>=1.11.0->hands-on-ai) (1.109.1)\n",
            "Requirement already satisfied: pydantic-core<3.0.0,>=2.18.0 in /usr/local/lib/python3.12/dist-packages (from instructor>=1.11.0->hands-on-ai) (2.33.2)\n",
            "Requirement already satisfied: rich<15.0.0,>=13.7.0 in /usr/local/lib/python3.12/dist-packages (from instructor>=1.11.0->hands-on-ai) (13.9.4)\n",
            "Requirement already satisfied: tenacity<10.0.0,>=8.2.3 in /usr/local/lib/python3.12/dist-packages (from instructor>=1.11.0->hands-on-ai) (8.5.0)\n",
            "Requirement already satisfied: annotated-types>=0.6.0 in /usr/local/lib/python3.12/dist-packages (from pydantic>=2.0->hands-on-ai) (0.7.0)\n",
            "Requirement already satisfied: typing-extensions>=4.12.2 in /usr/local/lib/python3.12/dist-packages (from pydantic>=2.0->hands-on-ai) (4.15.0)\n",
            "Requirement already satisfied: typing-inspection>=0.4.0 in /usr/local/lib/python3.12/dist-packages (from pydantic>=2.0->hands-on-ai) (0.4.2)\n",
            "Requirement already satisfied: charset_normalizer<4,>=2 in /usr/local/lib/python3.12/dist-packages (from requests->hands-on-ai) (3.4.3)\n",
            "Requirement already satisfied: idna<4,>=2.5 in /usr/local/lib/python3.12/dist-packages (from requests->hands-on-ai) (3.10)\n",
            "Requirement already satisfied: urllib3<3,>=1.21.1 in /usr/local/lib/python3.12/dist-packages (from requests->hands-on-ai) (2.5.0)\n",
            "Requirement already satisfied: certifi>=2017.4.17 in /usr/local/lib/python3.12/dist-packages (from requests->hands-on-ai) (2025.10.5)\n",
            "Requirement already satisfied: click>=8.0.0 in /usr/local/lib/python3.12/dist-packages (from typer->hands-on-ai) (8.3.0)\n",
            "Requirement already satisfied: shellingham>=1.3.0 in /usr/local/lib/python3.12/dist-packages (from typer->hands-on-ai) (1.5.4)\n",
            "Requirement already satisfied: lxml>=3.1.0 in /usr/local/lib/python3.12/dist-packages (from python-docx->hands-on-ai) (5.4.0)\n",
            "Requirement already satisfied: fastcore>=1.8.1 in /usr/local/lib/python3.12/dist-packages (from python-fasthtml->hands-on-ai) (1.8.12)\n",
            "Requirement already satisfied: python-dateutil in /usr/local/lib/python3.12/dist-packages (from python-fasthtml->hands-on-ai) (2.9.0.post0)\n",
            "Requirement already satisfied: starlette>0.33 in /usr/local/lib/python3.12/dist-packages (from python-fasthtml->hands-on-ai) (0.48.0)\n",
            "Requirement already satisfied: oauthlib in /usr/local/lib/python3.12/dist-packages (from python-fasthtml->hands-on-ai) (3.3.1)\n",
            "Requirement already satisfied: itsdangerous in /usr/local/lib/python3.12/dist-packages (from python-fasthtml->hands-on-ai) (2.2.0)\n",
            "Requirement already satisfied: uvicorn>=0.30 in /usr/local/lib/python3.12/dist-packages (from uvicorn[standard]>=0.30->python-fasthtml->hands-on-ai) (0.37.0)\n",
            "Requirement already satisfied: httpx in /usr/local/lib/python3.12/dist-packages (from python-fasthtml->hands-on-ai) (0.28.1)\n",
            "Collecting fastlite>=0.1.1 (from python-fasthtml->hands-on-ai)\n",
            "  Downloading fastlite-0.2.1-py3-none-any.whl.metadata (12 kB)\n",
            "Requirement already satisfied: python-multipart in /usr/local/lib/python3.12/dist-packages (from python-fasthtml->hands-on-ai) (0.0.20)\n",
            "Requirement already satisfied: beautifulsoup4 in /usr/local/lib/python3.12/dist-packages (from python-fasthtml->hands-on-ai) (4.13.5)\n",
            "Requirement already satisfied: scipy>=1.6.0 in /usr/local/lib/python3.12/dist-packages (from scikit-learn->hands-on-ai) (1.16.2)\n",
            "Requirement already satisfied: joblib>=1.2.0 in /usr/local/lib/python3.12/dist-packages (from scikit-learn->hands-on-ai) (1.5.2)\n",
            "Requirement already satisfied: threadpoolctl>=3.1.0 in /usr/local/lib/python3.12/dist-packages (from scikit-learn->hands-on-ai) (3.6.0)\n",
            "Requirement already satisfied: aiohappyeyeballs>=2.5.0 in /usr/local/lib/python3.12/dist-packages (from aiohttp<4.0.0,>=3.9.1->instructor>=1.11.0->hands-on-ai) (2.6.1)\n",
            "Requirement already satisfied: aiosignal>=1.4.0 in /usr/local/lib/python3.12/dist-packages (from aiohttp<4.0.0,>=3.9.1->instructor>=1.11.0->hands-on-ai) (1.4.0)\n",
            "Requirement already satisfied: attrs>=17.3.0 in /usr/local/lib/python3.12/dist-packages (from aiohttp<4.0.0,>=3.9.1->instructor>=1.11.0->hands-on-ai) (25.4.0)\n",
            "Requirement already satisfied: frozenlist>=1.1.1 in /usr/local/lib/python3.12/dist-packages (from aiohttp<4.0.0,>=3.9.1->instructor>=1.11.0->hands-on-ai) (1.8.0)\n",
            "Requirement already satisfied: multidict<7.0,>=4.5 in /usr/local/lib/python3.12/dist-packages (from aiohttp<4.0.0,>=3.9.1->instructor>=1.11.0->hands-on-ai) (6.7.0)\n",
            "Requirement already satisfied: propcache>=0.2.0 in /usr/local/lib/python3.12/dist-packages (from aiohttp<4.0.0,>=3.9.1->instructor>=1.11.0->hands-on-ai) (0.3.2)\n",
            "Requirement already satisfied: yarl<2.0,>=1.17.0 in /usr/local/lib/python3.12/dist-packages (from aiohttp<4.0.0,>=3.9.1->instructor>=1.11.0->hands-on-ai) (1.22.0)\n",
            "Requirement already satisfied: packaging in /usr/local/lib/python3.12/dist-packages (from fastcore>=1.8.1->python-fasthtml->hands-on-ai) (25.0)\n",
            "Collecting apswutils>=0.1.0 (from fastlite>=0.1.1->python-fasthtml->hands-on-ai)\n",
            "  Downloading apswutils-0.1.0-py3-none-any.whl.metadata (7.4 kB)\n",
            "Requirement already satisfied: MarkupSafe>=2.0 in /usr/local/lib/python3.12/dist-packages (from jinja2<4.0.0,>=3.1.4->instructor>=1.11.0->hands-on-ai) (3.0.3)\n",
            "Requirement already satisfied: anyio<5,>=3.5.0 in /usr/local/lib/python3.12/dist-packages (from openai<2.0.0,>=1.70.0->instructor>=1.11.0->hands-on-ai) (4.11.0)\n",
            "Requirement already satisfied: distro<2,>=1.7.0 in /usr/local/lib/python3.12/dist-packages (from openai<2.0.0,>=1.70.0->instructor>=1.11.0->hands-on-ai) (1.9.0)\n",
            "Requirement already satisfied: sniffio in /usr/local/lib/python3.12/dist-packages (from openai<2.0.0,>=1.70.0->instructor>=1.11.0->hands-on-ai) (1.3.1)\n",
            "Requirement already satisfied: tqdm>4 in /usr/local/lib/python3.12/dist-packages (from openai<2.0.0,>=1.70.0->instructor>=1.11.0->hands-on-ai) (4.67.1)\n",
            "Requirement already satisfied: httpcore==1.* in /usr/local/lib/python3.12/dist-packages (from httpx->python-fasthtml->hands-on-ai) (1.0.9)\n",
            "Requirement already satisfied: h11>=0.16 in /usr/local/lib/python3.12/dist-packages (from httpcore==1.*->httpx->python-fasthtml->hands-on-ai) (0.16.0)\n",
            "Requirement already satisfied: markdown-it-py>=2.2.0 in /usr/local/lib/python3.12/dist-packages (from rich<15.0.0,>=13.7.0->instructor>=1.11.0->hands-on-ai) (4.0.0)\n",
            "Requirement already satisfied: pygments<3.0.0,>=2.13.0 in /usr/local/lib/python3.12/dist-packages (from rich<15.0.0,>=13.7.0->instructor>=1.11.0->hands-on-ai) (2.19.2)\n",
            "Collecting httptools>=0.6.3 (from uvicorn[standard]>=0.30->python-fasthtml->hands-on-ai)\n",
            "  Downloading httptools-0.7.1-cp312-cp312-manylinux1_x86_64.manylinux_2_28_x86_64.manylinux_2_5_x86_64.whl.metadata (3.5 kB)\n",
            "Requirement already satisfied: python-dotenv>=0.13 in /usr/local/lib/python3.12/dist-packages (from uvicorn[standard]>=0.30->python-fasthtml->hands-on-ai) (1.1.1)\n",
            "Requirement already satisfied: pyyaml>=5.1 in /usr/local/lib/python3.12/dist-packages (from uvicorn[standard]>=0.30->python-fasthtml->hands-on-ai) (6.0.3)\n",
            "Collecting uvloop>=0.15.1 (from uvicorn[standard]>=0.30->python-fasthtml->hands-on-ai)\n",
            "  Downloading uvloop-0.21.0-cp312-cp312-manylinux_2_17_x86_64.manylinux2014_x86_64.whl.metadata (4.9 kB)\n",
            "Collecting watchfiles>=0.13 (from uvicorn[standard]>=0.30->python-fasthtml->hands-on-ai)\n",
            "  Downloading watchfiles-1.1.1-cp312-cp312-manylinux_2_17_x86_64.manylinux2014_x86_64.whl.metadata (4.9 kB)\n",
            "Requirement already satisfied: websockets>=10.4 in /usr/local/lib/python3.12/dist-packages (from uvicorn[standard]>=0.30->python-fasthtml->hands-on-ai) (15.0.1)\n",
            "Requirement already satisfied: soupsieve>1.2 in /usr/local/lib/python3.12/dist-packages (from beautifulsoup4->python-fasthtml->hands-on-ai) (2.8)\n",
            "Requirement already satisfied: six>=1.5 in /usr/local/lib/python3.12/dist-packages (from python-dateutil->python-fasthtml->hands-on-ai) (1.17.0)\n",
            "Collecting apsw (from apswutils>=0.1.0->fastlite>=0.1.1->python-fasthtml->hands-on-ai)\n",
            "  Downloading apsw-3.50.4.0-cp312-cp312-manylinux_2_28_x86_64.whl.metadata (3.7 kB)\n",
            "Requirement already satisfied: mdurl~=0.1 in /usr/local/lib/python3.12/dist-packages (from markdown-it-py>=2.2.0->rich<15.0.0,>=13.7.0->instructor>=1.11.0->hands-on-ai) (0.1.2)\n",
            "Downloading hands_on_ai-0.2.1-py3-none-any.whl (143 kB)\n",
            "\u001b[2K   \u001b[90m━━━━━━━━━━━━━━━━━━━━━━━━━━━━━━━━━━━━━━━━\u001b[0m \u001b[32m143.7/143.7 kB\u001b[0m \u001b[31m5.3 MB/s\u001b[0m eta \u001b[36m0:00:00\u001b[0m\n",
            "\u001b[?25hDownloading instructor-1.11.3-py3-none-any.whl (155 kB)\n",
            "\u001b[2K   \u001b[90m━━━━━━━━━━━━━━━━━━━━━━━━━━━━━━━━━━━━━━━━\u001b[0m \u001b[32m155.5/155.5 kB\u001b[0m \u001b[31m10.8 MB/s\u001b[0m eta \u001b[36m0:00:00\u001b[0m\n",
            "\u001b[?25hDownloading pymupdf-1.26.5-cp39-abi3-manylinux_2_28_x86_64.whl (24.1 MB)\n",
            "\u001b[2K   \u001b[90m━━━━━━━━━━━━━━━━━━━━━━━━━━━━━━━━━━━━━━━━\u001b[0m \u001b[32m24.1/24.1 MB\u001b[0m \u001b[31m114.9 MB/s\u001b[0m eta \u001b[36m0:00:00\u001b[0m\n",
            "\u001b[?25hDownloading python_docx-1.2.0-py3-none-any.whl (252 kB)\n",
            "\u001b[2K   \u001b[90m━━━━━━━━━━━━━━━━━━━━━━━━━━━━━━━━━━━━━━━━\u001b[0m \u001b[32m253.0/253.0 kB\u001b[0m \u001b[31m17.2 MB/s\u001b[0m eta \u001b[36m0:00:00\u001b[0m\n",
            "\u001b[?25hDownloading python_fasthtml-0.12.29-py3-none-any.whl (71 kB)\n",
            "\u001b[2K   \u001b[90m━━━━━━━━━━━━━━━━━━━━━━━━━━━━━━━━━━━━━━━━\u001b[0m \u001b[32m71.0/71.0 kB\u001b[0m \u001b[31m4.8 MB/s\u001b[0m eta \u001b[36m0:00:00\u001b[0m\n",
            "\u001b[?25hDownloading diskcache-5.6.3-py3-none-any.whl (45 kB)\n",
            "\u001b[2K   \u001b[90m━━━━━━━━━━━━━━━━━━━━━━━━━━━━━━━━━━━━━━━━\u001b[0m \u001b[32m45.5/45.5 kB\u001b[0m \u001b[31m2.5 MB/s\u001b[0m eta \u001b[36m0:00:00\u001b[0m\n",
            "\u001b[?25hDownloading fastlite-0.2.1-py3-none-any.whl (17 kB)\n",
            "Downloading jiter-0.10.0-cp312-cp312-manylinux_2_17_x86_64.manylinux2014_x86_64.whl (352 kB)\n",
            "\u001b[2K   \u001b[90m━━━━━━━━━━━━━━━━━━━━━━━━━━━━━━━━━━━━━━━━\u001b[0m \u001b[32m352.0/352.0 kB\u001b[0m \u001b[31m25.1 MB/s\u001b[0m eta \u001b[36m0:00:00\u001b[0m\n",
            "\u001b[?25hDownloading apswutils-0.1.0-py3-none-any.whl (80 kB)\n",
            "\u001b[2K   \u001b[90m━━━━━━━━━━━━━━━━━━━━━━━━━━━━━━━━━━━━━━━━\u001b[0m \u001b[32m80.5/80.5 kB\u001b[0m \u001b[31m5.9 MB/s\u001b[0m eta \u001b[36m0:00:00\u001b[0m\n",
            "\u001b[?25hDownloading httptools-0.7.1-cp312-cp312-manylinux1_x86_64.manylinux_2_28_x86_64.manylinux_2_5_x86_64.whl (517 kB)\n",
            "\u001b[2K   \u001b[90m━━━━━━━━━━━━━━━━━━━━━━━━━━━━━━━━━━━━━━━━\u001b[0m \u001b[32m517.7/517.7 kB\u001b[0m \u001b[31m35.3 MB/s\u001b[0m eta \u001b[36m0:00:00\u001b[0m\n",
            "\u001b[?25hDownloading uvloop-0.21.0-cp312-cp312-manylinux_2_17_x86_64.manylinux2014_x86_64.whl (4.7 MB)\n",
            "\u001b[2K   \u001b[90m━━━━━━━━━━━━━━━━━━━━━━━━━━━━━━━━━━━━━━━━\u001b[0m \u001b[32m4.7/4.7 MB\u001b[0m \u001b[31m104.6 MB/s\u001b[0m eta \u001b[36m0:00:00\u001b[0m\n",
            "\u001b[?25hDownloading watchfiles-1.1.1-cp312-cp312-manylinux_2_17_x86_64.manylinux2014_x86_64.whl (456 kB)\n",
            "\u001b[2K   \u001b[90m━━━━━━━━━━━━━━━━━━━━━━━━━━━━━━━━━━━━━━━━\u001b[0m \u001b[32m456.8/456.8 kB\u001b[0m \u001b[31m33.8 MB/s\u001b[0m eta \u001b[36m0:00:00\u001b[0m\n",
            "\u001b[?25hDownloading apsw-3.50.4.0-cp312-cp312-manylinux_2_28_x86_64.whl (7.1 MB)\n",
            "\u001b[2K   \u001b[90m━━━━━━━━━━━━━━━━━━━━━━━━━━━━━━━━━━━━━━━━\u001b[0m \u001b[32m7.1/7.1 MB\u001b[0m \u001b[31m136.1 MB/s\u001b[0m eta \u001b[36m0:00:00\u001b[0m\n",
            "\u001b[?25hInstalling collected packages: uvloop, python-docx, pymupdf, jiter, httptools, diskcache, apsw, watchfiles, apswutils, fastlite, python-fasthtml, instructor, hands-on-ai\n",
            "  Attempting uninstall: jiter\n",
            "    Found existing installation: jiter 0.11.0\n",
            "    Uninstalling jiter-0.11.0:\n",
            "      Successfully uninstalled jiter-0.11.0\n",
            "Successfully installed apsw-3.50.4.0 apswutils-0.1.0 diskcache-5.6.3 fastlite-0.2.1 hands-on-ai-0.2.1 httptools-0.7.1 instructor-1.11.3 jiter-0.10.0 pymupdf-1.26.5 python-docx-1.2.0 python-fasthtml-0.12.29 uvloop-0.21.0 watchfiles-1.1.1\n"
          ]
        }
      ],
      "source": [
        "# 🧪 Optional packages — uncomment if needed in Colab or JupyterHub\n",
        "!pip install fetch-my-weather\n",
        "!pip install hands-on-ai\n"
      ]
    },
    {
      "cell_type": "code",
      "source": [
        "import os\n",
        "\n",
        "os.environ['HANDS_ON_AI_SERVER'] = 'http://ollama.serveur.au'\n",
        "os.environ['HANDS_ON_AI_MODEL'] = 'granite3.2'\n",
        "os.environ['HANDS_ON_AI_API_KEY'] = input('Enter your API key: ')"
      ],
      "metadata": {
        "id": "B2JKlJfrGgIb",
        "colab": {
          "base_uri": "https://localhost:8080/"
        },
        "outputId": "e06797ab-0acd-4f06-e208-920e5fc17007"
      },
      "id": "B2JKlJfrGgIb",
      "execution_count": 2,
      "outputs": [
        {
          "name": "stdout",
          "output_type": "stream",
          "text": [
            "Enter your API key: 6a4321cf714648cd91932e5f5cd382bd.d3aNe0j6YGG5nPJv8tNtRYVR\n"
          ]
        }
      ]
    },
    {
      "cell_type": "markdown",
      "id": "59ae7543",
      "metadata": {
        "id": "59ae7543"
      },
      "source": [
        "## 📦 Setup and Configuration\n",
        "Import required packages and setup environment."
      ]
    },
    {
      "cell_type": "code",
      "execution_count": 3,
      "id": "f1dd051e",
      "metadata": {
        "id": "f1dd051e",
        "colab": {
          "base_uri": "https://localhost:8080/"
        },
        "outputId": "5258164f-1ed2-4acf-8d93-9262bad4c87c"
      },
      "outputs": [
        {
          "output_type": "stream",
          "name": "stdout",
          "text": [
            "Collecting pyinputplus\n",
            "  Downloading PyInputPlus-0.2.12.tar.gz (20 kB)\n",
            "  Installing build dependencies ... \u001b[?25l\u001b[?25hdone\n",
            "  Getting requirements to build wheel ... \u001b[?25l\u001b[?25hdone\n",
            "  Preparing metadata (pyproject.toml) ... \u001b[?25l\u001b[?25hdone\n",
            "Collecting pysimplevalidate>=0.2.7 (from pyinputplus)\n",
            "  Downloading PySimpleValidate-0.2.12.tar.gz (22 kB)\n",
            "  Installing build dependencies ... \u001b[?25l\u001b[?25hdone\n",
            "  Getting requirements to build wheel ... \u001b[?25l\u001b[?25hdone\n",
            "  Preparing metadata (pyproject.toml) ... \u001b[?25l\u001b[?25hdone\n",
            "Collecting stdiomask>=0.0.3 (from pyinputplus)\n",
            "  Downloading stdiomask-0.0.6.tar.gz (3.6 kB)\n",
            "  Installing build dependencies ... \u001b[?25l\u001b[?25hdone\n",
            "  Getting requirements to build wheel ... \u001b[?25l\u001b[?25hdone\n",
            "  Preparing metadata (pyproject.toml) ... \u001b[?25l\u001b[?25hdone\n",
            "Building wheels for collected packages: pyinputplus, pysimplevalidate, stdiomask\n",
            "  Building wheel for pyinputplus (pyproject.toml) ... \u001b[?25l\u001b[?25hdone\n",
            "  Created wheel for pyinputplus: filename=pyinputplus-0.2.12-py3-none-any.whl size=11348 sha256=474d62819a0787c6e2dcd0e1f895f135a234d5d4a922069118007f7349379656\n",
            "  Stored in directory: /root/.cache/pip/wheels/85/81/c1/325c8199c5c4de8a0b9af900ff9cd8bd69853e3d9419493512\n",
            "  Building wheel for pysimplevalidate (pyproject.toml) ... \u001b[?25l\u001b[?25hdone\n",
            "  Created wheel for pysimplevalidate: filename=pysimplevalidate-0.2.12-py3-none-any.whl size=16225 sha256=66b0d5b6cd2787dcfc35665fcae39cc43c7c1e9ed4d5e9a197f69bedb252e22c\n",
            "  Stored in directory: /root/.cache/pip/wheels/09/de/18/4dd2be0dbdf31870c6f0abde43b0de197b1c095655ad7da5c2\n",
            "  Building wheel for stdiomask (pyproject.toml) ... \u001b[?25l\u001b[?25hdone\n",
            "  Created wheel for stdiomask: filename=stdiomask-0.0.6-py3-none-any.whl size=3358 sha256=538cd6fb82c202b0bd2aefc87942d8578eaccb168d8d7271f96a833f43291c56\n",
            "  Stored in directory: /root/.cache/pip/wheels/05/c7/e6/c66ff8c008b4d73f2db458feb4922075e7755853fe496e5135\n",
            "Successfully built pyinputplus pysimplevalidate stdiomask\n",
            "Installing collected packages: stdiomask, pysimplevalidate, pyinputplus\n",
            "Successfully installed pyinputplus-0.2.12 pysimplevalidate-0.2.12 stdiomask-0.0.6\n"
          ]
        }
      ],
      "source": [
        "!pip install pyinputplus\n",
        "import requests\n",
        "import matplotlib.pyplot as plt\n",
        "import pyinputplus as pyip\n",
        "# ✅ Import after installing (if needed)\n",
        "from fetch_my_weather import get_weather\n",
        "from hands_on_ai.chat import get_response\n",
        "\n",
        "# Add any other setup code here"
      ]
    },
    {
      "cell_type": "markdown",
      "id": "f736ade3",
      "metadata": {
        "id": "f736ade3"
      },
      "source": [
        "## 🌤️ Weather Data Functions"
      ]
    },
    {
      "cell_type": "code",
      "execution_count": 41,
      "id": "7a2c7cd0",
      "metadata": {
        "id": "7a2c7cd0"
      },
      "outputs": [],
      "source": [
        "import json\n",
        "import fetch_my_weather\n",
        "\n",
        "def get_weather_data(location, forecast_days=5):\n",
        "    \"\"\"\n",
        "    Retrieve normalized weather data for a specified location (no extra helper funcs).\n",
        "\n",
        "    Returns:\n",
        "        dict: {\n",
        "          \"location\": str,\n",
        "          \"current\": {\n",
        "              \"temp_C\": float|None,\n",
        "              \"weather_desc\": str|None,\n",
        "              \"humidity_pct\": int|None,\n",
        "              \"wind_kmph\": float|None,\n",
        "              \"wind_dir\": str|None,\n",
        "              \"precipitation_mm\": float|None\n",
        "          },\n",
        "          \"forecast\": [\n",
        "              {\n",
        "                ...<original day fields>...,\n",
        "                \"precipitation_mm\": float,          # daily total in mm (from daily or summed hourly)\n",
        "                \"chance_of_rain_pct\": int|None\n",
        "              }, ...\n",
        "          ]\n",
        "        }\n",
        "    \"\"\"\n",
        "    try:\n",
        "        result = fetch_my_weather.get_weather(location=location, format=\"raw_json\")\n",
        "\n",
        "        # Handle explicit tool error convention\n",
        "        if isinstance(result, str) and result.startswith(\"Error:\"):\n",
        "            print(f\"Error retrieving weather data: {result}\")\n",
        "            return None\n",
        "\n",
        "        # Ensure result is a dict\n",
        "        if isinstance(result, str):\n",
        "            try:\n",
        "                result = json.loads(result)\n",
        "            except json.JSONDecodeError:\n",
        "                print(\"Error: Weather backend returned an unexpected string payload.\")\n",
        "                return None\n",
        "\n",
        "        # Safe converters (inline, no extra defs)\n",
        "        def _to_float(x):\n",
        "            try:\n",
        "                return float(x)\n",
        "            except (TypeError, ValueError):\n",
        "                return None\n",
        "\n",
        "        def _to_int(x):\n",
        "            try:\n",
        "                return int(x)\n",
        "            except (TypeError, ValueError):\n",
        "                return None\n",
        "\n",
        "        # Extract \"current\"\n",
        "        raw_current = (result.get(\"current_condition\") or [None])[0] or {}\n",
        "        # weatherDesc may be list of {\"value\": \"...\"}\n",
        "        desc = raw_current.get(\"weather_desc\")\n",
        "        if not desc:\n",
        "            wd = raw_current.get(\"weatherDesc\")\n",
        "            if isinstance(wd, list) and wd:\n",
        "                desc = wd[0].get(\"value\")\n",
        "\n",
        "        # current precip: prefer mm, fallback inches -> mm\n",
        "        cur_precip_mm = None\n",
        "        for k in (\"precipMM\", \"precip_mm\"):\n",
        "            v = raw_current.get(k)\n",
        "            if v not in (None, \"\"):\n",
        "                cur_precip_mm = _to_float(v)\n",
        "                break\n",
        "        if cur_precip_mm is None:\n",
        "            for k in (\"precipInches\", \"precip_in\"):\n",
        "                v = raw_current.get(k)\n",
        "                if v not in (None, \"\"):\n",
        "                    val = _to_float(v)\n",
        "                    cur_precip_mm = val * 25.4 if val is not None else None\n",
        "                    break\n",
        "\n",
        "        current = {\n",
        "            \"temp_C\": _to_float(raw_current.get(\"temp_C\") or raw_current.get(\"tempC\")),\n",
        "            \"weather_desc\": desc,\n",
        "            \"humidity_pct\": _to_int(raw_current.get(\"humidity\")),\n",
        "            \"wind_kmph\": _to_float(raw_current.get(\"windspeedKmph\") or raw_current.get(\"wind_speed_kmph\")),\n",
        "            \"wind_dir\": raw_current.get(\"winddir16Point\") or raw_current.get(\"wind_dir\"),\n",
        "            \"precipitation_mm\": cur_precip_mm,\n",
        "        }\n",
        "\n",
        "        # Extract forecast days\n",
        "        raw_days = (result.get(\"weather\") or [])[:max(0, int(forecast_days))]\n",
        "        forecast = []\n",
        "        for day in raw_days:\n",
        "            # 1) Try daily aggregate precip in mm\n",
        "            daily_mm = None\n",
        "            for k in (\"totalprecipMM\", \"totalprecipMm\", \"totalprecip_mm\", \"total_precip_mm\"):\n",
        "                v = day.get(k)\n",
        "                if v not in (None, \"\"):\n",
        "                    daily_mm = _to_float(v)\n",
        "                    break\n",
        "            # 2) If only inches provided, convert to mm\n",
        "            if daily_mm is None:\n",
        "                for k in (\"totalprecipInches\", \"totalprecip_inches\", \"total_precip_in\"):\n",
        "                    v = day.get(k)\n",
        "                    if v not in (None, \"\"):\n",
        "                        val = _to_float(v)\n",
        "                        daily_mm = val * 25.4 if val is not None else None\n",
        "                        break\n",
        "            # 3) Fallback: sum hourly precip\n",
        "            if daily_mm is None:\n",
        "                total = 0.0\n",
        "                found_any = False\n",
        "                hourly = day.get(\"hourly\") or []\n",
        "                for h in hourly:\n",
        "                    hv = None\n",
        "                    for hk in (\"precipMM\", \"precipMm\", \"precip_mm\"):\n",
        "                        vv = h.get(hk)\n",
        "                        if vv not in (None, \"\"):\n",
        "                            hv = _to_float(vv)\n",
        "                            break\n",
        "                    if hv is None:\n",
        "                        for hk in (\"precipInches\", \"precip_in\", \"precipIN\"):\n",
        "                            vv = h.get(hk)\n",
        "                            if vv not in (None, \"\"):\n",
        "                                val = _to_float(vv)\n",
        "                                hv = val * 25.4 if val is not None else None\n",
        "                                break\n",
        "                    if hv is not None:\n",
        "                        found_any = True\n",
        "                        total += hv\n",
        "                daily_mm = total if found_any else 0.0  # keep predictable number\n",
        "\n",
        "            # chance of rain: take max over hourly keys if present\n",
        "            chance_val = None\n",
        "            hourly = day.get(\"hourly\") or []\n",
        "            for h in hourly:\n",
        "                for ck in (\"chanceofrain\", \"chance_of_rain\", \"chanceOfRain\"):\n",
        "                    cv = h.get(ck)\n",
        "                    if cv not in (None, \"\"):\n",
        "                        ci = _to_int(cv)\n",
        "                        if ci is not None:\n",
        "                            chance_val = ci if chance_val is None else max(chance_val, ci)\n",
        "                        break\n",
        "\n",
        "            # Preserve original day fields and add normalized ones\n",
        "            day_out = dict(day)  # shallow copy of original fields\n",
        "            day_out[\"precipitation_mm\"] = float(daily_mm) if daily_mm is not None else 0.0\n",
        "            day_out[\"chance_of_rain_pct\"] = chance_val\n",
        "\n",
        "            # Normalize sunrise/sunset if under astronomy[]\n",
        "            if \"astronomy\" in day and isinstance(day[\"astronomy\"], list) and day[\"astronomy\"]:\n",
        "                astro = day[\"astronomy\"][0]\n",
        "                day_out.setdefault(\"sunrise\", astro.get(\"sunrise\"))\n",
        "                day_out.setdefault(\"sunset\", astro.get(\"sunset\"))\n",
        "\n",
        "            forecast.append(day_out)\n",
        "\n",
        "        return {\n",
        "            \"location\": location,\n",
        "            \"current\": current,\n",
        "            \"forecast\": forecast\n",
        "        }\n",
        "\n",
        "    except Exception as e:\n",
        "        print(f\"Error retrieving weather data: {e}\")\n",
        "        return {}\n"
      ]
    },
    {
      "cell_type": "markdown",
      "id": "8a744fdc",
      "metadata": {
        "id": "8a744fdc"
      },
      "source": [
        "## 📊 Visualisation Functions"
      ]
    },
    {
      "cell_type": "code",
      "execution_count": 32,
      "id": "9dc3bf85",
      "metadata": {
        "id": "9dc3bf85"
      },
      "outputs": [],
      "source": [
        "import matplotlib.pyplot as plt\n",
        "import numpy as np\n",
        "\n",
        "def create_temperature_visualisation(weather_data, output_type='display'):\n",
        "\n",
        "    forecast = weather_data.get(\"forecast\", [])\n",
        "    if not forecast:\n",
        "        print(\"No forecast data available to visualise.\")\n",
        "        return None\n",
        "\n",
        "    # Extract values\n",
        "    dates = [day.get(\"date\") for day in forecast]\n",
        "    min_temps = [int(day.get(\"mintempC\", 0)) for day in forecast]\n",
        "    max_temps = [int(day.get(\"maxtempC\", 0)) for day in forecast]\n",
        "    avg_temps = [int(day.get(\"avgtempC\", 0)) for day in forecast]\n",
        "\n",
        "    # Setup positions for grouped bars\n",
        "    x = np.arange(len(dates))\n",
        "    bar_width = 0.25\n",
        "\n",
        "    fig, ax = plt.subplots(figsize=(9, 6))\n",
        "    ax.bar(x - bar_width, min_temps, width=bar_width, label=\"Min Temp (°C)\")\n",
        "    ax.bar(x, avg_temps, width=bar_width, label=\"Avg Temp (°C)\")\n",
        "    ax.bar(x + bar_width, max_temps, width=bar_width, label=\"Max Temp (°C)\")\n",
        "\n",
        "    # Labels and formatting\n",
        "    ax.set_title(f\"Temperature Forecast for {weather_data.get('location', 'Unknown')}\", fontsize=14, weight=\"bold\")\n",
        "    ax.set_xlabel(\"Date\", fontsize=12)\n",
        "    ax.set_ylabel(\"Temperature (°C)\", fontsize=12)\n",
        "    ax.set_xticks(x)\n",
        "    ax.set_xticklabels(dates, rotation=30, ha=\"right\")\n",
        "    ax.legend()\n",
        "    ax.grid(axis=\"y\", linestyle=\"--\", alpha=0.7)\n",
        "\n",
        "    fig.tight_layout()\n",
        "\n",
        "    if output_type == 'figure':\n",
        "        return fig\n",
        "    else:\n",
        "        plt.show()\n",
        "        return None\n"
      ]
    },
    {
      "cell_type": "code",
      "source": [
        "\n",
        "\n",
        "def create_precipitation_visualisation(weather_data, output_type='display'):\n",
        "\n",
        "    forecast = weather_data.get(\"forecast\", [])\n",
        "    if not forecast:\n",
        "        print(\"No forecast data available to visualise.\")\n",
        "        return None\n",
        "\n",
        "    # Extract values\n",
        "    dates = [day.get(\"date\") for day in forecast]\n",
        "    rainfall = [float(day.get(\"totalprecipMM\", 0)) for day in forecast]   # total precipitation in mm\n",
        "    chance_of_rain = [\n",
        "        float(day.get(\"hourly\", [{}])[0].get(\"chanceofrain\", 0)) if \"hourly\" in day else 0\n",
        "        for day in forecast\n",
        "    ]\n",
        "\n",
        "    x = np.arange(len(dates))\n",
        "\n",
        "    fig, ax1 = plt.subplots(figsize=(9, 6))\n",
        "\n",
        "    # Bar chart for rainfall\n",
        "    bars = ax1.bar(x, rainfall, color=\"skyblue\", label=\"Rainfall (mm)\")\n",
        "    ax1.set_xlabel(\"Date\", fontsize=12)\n",
        "    ax1.set_ylabel(\"Rainfall (mm)\", color=\"blue\", fontsize=12)\n",
        "    ax1.tick_params(axis=\"y\", labelcolor=\"blue\")\n",
        "    ax1.set_xticks(x)\n",
        "    ax1.set_xticklabels(dates, rotation=30, ha=\"right\")\n",
        "\n",
        "    # Secondary axis for chance of rain\n",
        "    ax2 = ax1.twinx()\n",
        "    ax2.plot(x, chance_of_rain, color=\"darkred\", marker=\"o\", linewidth=2, label=\"Chance of Rain (%)\")\n",
        "    ax2.set_ylabel(\"Chance of Rain (%)\", color=\"darkred\", fontsize=12)\n",
        "    ax2.tick_params(axis=\"y\", labelcolor=\"darkred\")\n",
        "\n",
        "    # Title and legend\n",
        "    fig.suptitle(f\"Precipitation Forecast for {weather_data.get('location', 'Unknown')}\", fontsize=14, weight=\"bold\")\n",
        "\n",
        "    # Combine legends from both axes\n",
        "    bars_legend, labels1 = ax1.get_legend_handles_labels()\n",
        "    line_legend, labels2 = ax2.get_legend_handles_labels()\n",
        "    ax1.legend(bars_legend + line_legend, labels1 + labels2, loc=\"upper left\")\n",
        "\n",
        "    fig.tight_layout()\n",
        "\n",
        "    if output_type == 'figure':\n",
        "        return fig\n",
        "    else:\n",
        "        plt.show()\n",
        "        return None\n"
      ],
      "metadata": {
        "id": "HpOlQylYG5Ho"
      },
      "id": "HpOlQylYG5Ho",
      "execution_count": 33,
      "outputs": []
    },
    {
      "cell_type": "markdown",
      "id": "9f95d160",
      "metadata": {
        "id": "9f95d160"
      },
      "source": [
        "## 🤖 Natural Language Processing"
      ]
    },
    {
      "cell_type": "code",
      "execution_count": 50,
      "id": "bcc5833e",
      "metadata": {
        "id": "bcc5833e"
      },
      "outputs": [],
      "source": [
        "import re\n",
        "from datetime import datetime, timedelta\n",
        "\n",
        "def parse_weather_question(question):\n",
        "    original = question  # keep original if you need it\n",
        "    q = question.lower()\n",
        "    result = {\n",
        "        \"location\": None,\n",
        "        \"time_period\": \"today\",\n",
        "        \"attribute\": \"general\"\n",
        "    }\n",
        "\n",
        "    # ---- LOCATION: capture after \"in/of/at/for\" until a time keyword or end\n",
        "    # e.g., \"what is the temperature of bangladesh today\"\n",
        "    #       \"weather in south australia tomorrow?\"\n",
        "    loc_match = re.search(\n",
        "        r'\\b(?:in|of|at|for)\\s+([a-z][a-z\\s\\-\\’\\'\\.]+?)(?=\\s+(?:today|tomorrow|next\\b)|\\s*\\?*$|$)',\n",
        "        q\n",
        "    )\n",
        "    if loc_match:\n",
        "        # Title-case multi-word names cleanly (e.g., \"south australia\" -> \"South Australia\")\n",
        "        loc = loc_match.group(1).strip(\" ?.!;:,\")\n",
        "        result[\"location\"] = \" \".join(w.capitalize() for w in loc.split())\n",
        "    if \"tomorrow\" in q:\n",
        "        result[\"time_period\"] = \"tomorrow\"\n",
        "    else:\n",
        "        next_days = re.search(r'\\bnext\\s+(\\d+)\\s+days\\b', q)\n",
        "        if next_days:\n",
        "            days = int(next_days.group(1))\n",
        "            result[\"time_period\"] = f\"next_{days}_days\"\n",
        "\n",
        "    if \"temperature\" in q or \"temp\" in q:\n",
        "        result[\"attribute\"] = \"temperature\"\n",
        "    elif \"rain\" in q or \"precipitation\" in q:\n",
        "        result[\"attribute\"] = \"precipitation\"\n",
        "    elif \"forecast\" in q:\n",
        "        result[\"attribute\"] = \"forecast\"\n",
        "\n",
        "    return result\n"
      ]
    },
    {
      "cell_type": "markdown",
      "id": "0d85225e",
      "metadata": {
        "id": "0d85225e"
      },
      "source": [
        "## 🧭 User Interface"
      ]
    },
    {
      "cell_type": "code",
      "execution_count": 54,
      "id": "fa6cb0f6",
      "metadata": {
        "id": "fa6cb0f6",
        "colab": {
          "base_uri": "https://localhost:8080/",
          "height": 1000
        },
        "outputId": "2bc12ba3-9aa9-4f37-c874-9e39032f19e3"
      },
      "outputs": [
        {
          "output_type": "stream",
          "name": "stdout",
          "text": [
            "Ask a weather question (e.g. 'What is the temperature in Bangladesh tomorrow??'): What is the temperature in Perth tomorrow?\n",
            "\n",
            "Parsed question: {'location': 'Perth', 'time_period': 'tomorrow', 'attribute': 'temperature'}\n",
            "\n",
            "Tomorrow in Perth, expect temperatures from 15°C to 26°C with an average of 20°C.\n"
          ]
        },
        {
          "output_type": "display_data",
          "data": {
            "text/plain": [
              "<Figure size 900x600 with 1 Axes>"
            ],
            "image/png": "[encoded data removed]"
          },
          "metadata": {}
        },
        {
          "output_type": "stream",
          "name": "stdout",
          "text": [
            "None\n"
          ]
        },
        {
          "output_type": "display_data",
          "data": {
            "text/plain": [
              "<Figure size 900x600 with 2 Axes>"
            ],
            "image/png": "[encoded data removed]"
          },
          "metadata": {}
        },
        {
          "output_type": "stream",
          "name": "stdout",
          "text": [
            "None\n"
          ]
        }
      ],
      "source": [
        "\n",
        "\n",
        "\n",
        "\n",
        "\n",
        "\n",
        "\n",
        "\n",
        "\n",
        "\n",
        "\n",
        "\n",
        "\n",
        "\n",
        "\n",
        "\n",
        "\n",
        "\n",
        "\n",
        "\n",
        "def main():\n",
        "    # Step 1: Ask user for input\n",
        "    user_question = input(\"Ask a weather question (e.g. 'What is the temperature in Bangladesh tomorrow??'): \")\n",
        "\n",
        "    # Step 2: Parse the question\n",
        "    parsed = parse_weather_question(user_question)\n",
        "    print(\"\\nParsed question:\", parsed)\n",
        "\n",
        "    location = parsed.get(\"location\")\n",
        "\n",
        "    weather_data = get_weather_data(location)\n",
        "\n",
        "    response = generate_weather_response(parsed, weather_data)\n",
        "    print(\"\\n\" + response)\n",
        "    print(create_temperature_visualisation(weather_data))\n",
        "    print(create_precipitation_visualisation(weather_data))\n",
        "\n",
        "\n",
        "# Run only if this file is executed directly\n",
        "if __name__ == \"__main__\":\n",
        "    main()\n"
      ]
    },
    {
      "cell_type": "markdown",
      "id": "d643a53c",
      "metadata": {
        "id": "d643a53c"
      },
      "source": [
        "## 🧩 Main Application Logic"
      ]
    },
    {
      "cell_type": "code",
      "execution_count": 45,
      "id": "a9e2e805",
      "metadata": {
        "id": "a9e2e805"
      },
      "outputs": [],
      "source": [
        "def generate_weather_response(parsed_question, weather_data):\n",
        "\n",
        "    if not weather_data or \"forecast\" not in weather_data:\n",
        "        return \"Sorry, I couldn't retrieve weather data at this time.\"\n",
        "\n",
        "    location = parsed_question.get(\"location\", weather_data.get(\"location\", \"your location\"))\n",
        "    time_period = parsed_question.get(\"time_period\", \"today\")\n",
        "    attribute = parsed_question.get(\"attribute\", \"general\")\n",
        "\n",
        "    # Helper to get the forecast for a specific day index\n",
        "    def get_day_forecast(index):\n",
        "        if index < len(weather_data[\"forecast\"]):\n",
        "            return weather_data[\"forecast\"][index]\n",
        "        return None\n",
        "\n",
        "    response = \"\"\n",
        "\n",
        "    if time_period == \"today\":\n",
        "        day_forecast = get_day_forecast(0)\n",
        "        if not day_forecast:\n",
        "            return f\"Sorry, I don't have today's forecast for {location}.\"\n",
        "\n",
        "        if attribute == \"temperature\":\n",
        "            response = (f\"Today in {location}, the temperature ranges from \"\n",
        "                        f\"{day_forecast['mintempC']}°C to {day_forecast['maxtempC']}°C \"\n",
        "                        f\"with an average of {day_forecast['avgtempC']}°C.\")\n",
        "        elif attribute == \"precipitation\":\n",
        "            rain = day_forecast.get(\"totalprecipMM\", \"0\")\n",
        "            chance = day_forecast.get(\"hourly\", [{}])[0].get(\"chanceofrain\", \"0\")\n",
        "            response = (f\"Today in {location}, total precipitation is {rain} mm \"\n",
        "                        f\"with a {chance}% chance of rain.\")\n",
        "        else:\n",
        "            response = (f\"Today's weather in {location}: Temperature {day_forecast['mintempC']}°C - \"\n",
        "                        f\"{day_forecast['maxtempC']}°C, Precipitation {day_forecast.get('totalprecipMM','0')} mm.\")\n",
        "\n",
        "    elif time_period == \"tomorrow\":\n",
        "        day_forecast = get_day_forecast(1)\n",
        "        if not day_forecast:\n",
        "            return f\"Sorry, I don't have tomorrow's forecast for {location}.\"\n",
        "\n",
        "        if attribute == \"temperature\":\n",
        "            response = (f\"Tomorrow in {location}, expect temperatures from \"\n",
        "                        f\"{day_forecast['mintempC']}°C to {day_forecast['maxtempC']}°C \"\n",
        "                        f\"with an average of {day_forecast['avgtempC']}°C.\")\n",
        "        elif attribute == \"precipitation\":\n",
        "            rain = day_forecast.get(\"totalprecipMM\", \"0\")\n",
        "            chance = day_forecast.get(\"hourly\", [{}])[0].get(\"chanceofrain\", \"0\")\n",
        "            response = (f\"Tomorrow in {location}, total precipitation will be {rain} mm \"\n",
        "                        f\"with a {chance}% chance of rain.\")\n",
        "        else:\n",
        "            response = (f\"Tomorrow's weather in {location}: Temperature {day_forecast['mintempC']}°C - \"\n",
        "                        f\"{day_forecast['maxtempC']}°C, Precipitation {day_forecast.get('totalprecipMM','0')} mm.\")\n",
        "\n",
        "    elif time_period.startswith(\"next_\"):\n",
        "        days = int(time_period.split(\"_\")[1])\n",
        "        forecast_list = weather_data.get(\"forecast\", [])[:days]\n",
        "        if not forecast_list:\n",
        "            return f\"Sorry, I don't have the forecast for the next {days} days in {location}.\"\n",
        "\n",
        "        response_lines = [f\"Weather forecast for the next {days} days in {location}:\"]\n",
        "        for day in forecast_list:\n",
        "            line = (f\"{day['date']}: Temp {day['mintempC']}°C-{day['maxtempC']}°C, \"\n",
        "                    f\"Precip {day.get('totalprecipMM','0')} mm\")\n",
        "            response_lines.append(line)\n",
        "        response = \"\\n\".join(response_lines)\n",
        "\n",
        "    else:\n",
        "        response = \"Sorry, I couldn't understand the time period you asked for.\"\n",
        "\n",
        "    return response\n"
      ]
    },
    {
      "cell_type": "markdown",
      "id": "fde44479",
      "metadata": {
        "id": "fde44479"
      },
      "source": [
        "## 🧪 Testing and Examples"
      ]
    },
    {
      "cell_type": "code",
      "execution_count": null,
      "id": "4e573901",
      "metadata": {
        "id": "4e573901"
      },
      "outputs": [],
      "source": [
        "# Include sample input/output for each function"
      ]
    },
    {
      "cell_type": "markdown",
      "id": "d2885880",
      "metadata": {
        "id": "d2885880"
      },
      "source": [
        "## 🗂️ AI Prompting Log (Optional)\n",
        "Add markdown cells here summarising prompts used or link to AI conversations in the `ai-conversations/` folder."
      ]
    }
  ],
  "metadata": {
    "language_info": {
      "name": "python"
    },
    "colab": {
      "provenance": [],
      "include_colab_link": true
    },
    "kernelspec": {
      "name": "python3",
      "display_name": "Python 3"
    }
  },
  "nbformat": 4,
  "nbformat_minor": 5
}